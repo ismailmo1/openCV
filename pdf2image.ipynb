{
 "cells": [
  {
   "cell_type": "code",
   "execution_count": 3,
   "metadata": {},
   "outputs": [],
   "source": [
    "from pdf2image import convert_from_path\n",
    "from pathlib import Path\n",
    "\n",
    "pdfPath = Path(r\"scanTemplate.pdf\")\n",
    "\n",
    "popplerPathHome= r\"C:\\Users\\Halima Mohmed\\Downloads\\OEE_OMR\\poppler-0.68.0_x86\\poppler-0.68.0\\bin\"\n",
    "popplerPathWork= r\"C:\\Users\\ismail.mohammed\\poppler-0.68.0\\bin\"\n",
    "pages = convert_from_path(pdfPath, poppler_path=popplerPathWork)\n",
    "\n",
    "for i,p in enumerate(pages):\n",
    "    pages[i].save(Path.joinpath(pdfPath.parent, pdfPath.stem + str(i)+\".jpg\"))"
   ]
  },
  {
   "cell_type": "code",
   "execution_count": null,
   "metadata": {},
   "outputs": [],
   "source": []
  }
 ],
 "metadata": {
  "kernelspec": {
   "display_name": "Python 3",
   "language": "python",
   "name": "python3"
  },
  "language_info": {
   "codemirror_mode": {
    "name": "ipython",
    "version": 3
   },
   "file_extension": ".py",
   "mimetype": "text/x-python",
   "name": "python",
   "nbconvert_exporter": "python",
   "pygments_lexer": "ipython3",
   "version": "3.7.3"
  }
 },
 "nbformat": 4,
 "nbformat_minor": 2
}
