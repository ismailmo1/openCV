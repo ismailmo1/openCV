{
 "cells": [
  {
   "cell_type": "code",
   "execution_count": 1,
   "metadata": {},
   "outputs": [],
   "source": [
    "import cv2\n",
    "import numpy as np\n",
    "import pandas as pd\n",
    "import copy\n",
    "import json\n",
    "from pathlib import Path"
   ]
  },
  {
   "cell_type": "code",
   "execution_count": 2,
   "metadata": {},
   "outputs": [],
   "source": [
    "#img_processing.py\n",
    "def showImg(img, time=0):\n",
    "    '''img = single np.array or list of np.array imgs\n",
    "    displays all in window with window name = window(i) where i = index'''\n",
    "    if type(img) != list:\n",
    "        cv2.imshow(\"window\", img)        \n",
    "    else:\n",
    "        for i, im in enumerate(img):\n",
    "            cv2.imshow(\"window\"+str(i), im)\n",
    "    cv2.waitKey(time)\n",
    "    if time==0:\n",
    "        cv2.destroyAllWindows()\n",
    "\n",
    "def threshImg(img, minThresh=100, maxThresh=255):   \n",
    "    '''apply grayscale conversion and thresholding to image\n",
    "    returns image''' \n",
    "    imgGray = cv2.cvtColor(img, cv2.COLOR_BGR2GRAY)\n",
    "    ret, imgThresh = cv2.threshold(imgGray, minThresh, maxThresh, cv2.THRESH_BINARY_INV)\n",
    "    \n",
    "    return imgThresh"
   ]
  },
  {
   "cell_type": "markdown",
   "metadata": {},
   "source": [
    "# define template"
   ]
  },
  {
   "cell_type": "markdown",
   "metadata": {},
   "source": [
    "## function to apply perspective transform and align forms "
   ]
  },
  {
   "cell_type": "code",
   "execution_count": 3,
   "metadata": {},
   "outputs": [],
   "source": [
    "#img_processing.py\n",
    "def alignForm(img, width=0, height=0, isTemplate = False):\n",
    "    '''apply perspective transformation to align form with template\n",
    "    img = input form as np.array (use cv2.imread)\n",
    "    width = use template image width (i.e. template['metadata']['shape'][1])\n",
    "    height = use template image height (i.e. template['metadata']['shape'][0])\n",
    "    isTemplate = if defining template: set to True to ensure the image is scaled down to \n",
    "    fit screen when showing image, will override width and height with euclidean distances of outer border'''\n",
    "    \n",
    "\n",
    "    # enhance image to improve contour detection\n",
    "    \n",
    "    #only resize if template - otherwise image will be resized with warp transform anyways\n",
    "    xScale = 0.5\n",
    "    yScale = 0.5\n",
    "    if isTemplate == True:\n",
    "        imgResize = cv2.resize(img, (0,0), fx= xScale, fy=yScale, interpolation= cv2.INTER_AREA)\n",
    "        print(\"AlignImage: img resized by {}{} in width and {}{} in height\".format(int(xScale*100),'%', int(yScale*100), '%'))\n",
    "    else:\n",
    "        imgResize = img\n",
    "        \n",
    "    imgGray = cv2.cvtColor(imgResize, cv2.COLOR_BGR2GRAY)\n",
    "    imgBilat = cv2.bilateralFilter(imgGray, 11,500,0)\n",
    "    imgEdges = cv2.Canny(imgBilat, 20,100 )\n",
    "    \n",
    "    ##find outer rectangle##\n",
    "    \n",
    "    conts = cv2.findContours(imgEdges, cv2.RETR_LIST, cv2.CHAIN_APPROX_SIMPLE)\n",
    "    #find top 10 biggest contours by area\n",
    "    areas =[]\n",
    "    for c in conts[0]:\n",
    "        areas.append([c, cv2.contourArea(c)])\n",
    "\n",
    "\n",
    "    sortedLengths = sorted(areas, key=lambda x:x[1], reverse=True)\n",
    "    topConts = sortedLengths[:10]\n",
    "\n",
    "    #find outer rectangle \n",
    "    outerBoxCnt = None\n",
    "    for c in topConts:\n",
    "        # approximate the contour\n",
    "        peri = cv2.arcLength(c[0], True)\n",
    "        #approximate curve to check if its rectangular\n",
    "        approx = cv2.approxPolyDP(c[0], 0.015 * peri, True)\n",
    "        if len(approx) == 4:\n",
    "            outerBoxCnt = approx\n",
    "            break\n",
    "\n",
    "    pts = outerBoxCnt.reshape(4,2)\n",
    "\n",
    "    #ordered from 0-3: top left, top right, bottom right, bottom left (go clockwise around rect)\n",
    "    orderedPts = np.zeros((4,2), dtype='float32')\n",
    "\n",
    "    #largest sum of x+y = bottom right\n",
    "    #smallest sum of x+y = top left\n",
    "    orderedPts[0] = pts[np.argmin(pts.sum(axis=1))]\n",
    "    orderedPts[2] = pts[np.argmax(pts.sum(axis=1))]\n",
    "\n",
    "    #smallest difference x-y = top right\n",
    "    orderedPts[1] = pts[np.argmin(np.diff(pts, axis=1))]\n",
    "    #largest difference x-y = bottom left\n",
    "    orderedPts[3] = pts[np.argmax(np.diff(pts, axis=1))]\n",
    "\n",
    "    #unpack ordered pts to find widths and heights\n",
    "    (tl, tr, br, bl) = orderedPts\n",
    "\n",
    "    #use euclidean distances (finally a use for pythagoras lol) - taken from pyimagesearch.com\n",
    "    widthA = np.sqrt(((br[0] - bl[0]) ** 2) + ((br[1] - bl[1]) ** 2))\n",
    "    widthB = np.sqrt(((tr[0] - tl[0]) ** 2) + ((tr[1] - tl[1]) ** 2))\n",
    "    heightA = np.sqrt(((tr[0] - br[0]) ** 2) + ((tr[1] - br[1]) ** 2))\n",
    "    heightB = np.sqrt(((tl[0] - bl[0]) ** 2) + ((tl[1] - bl[1]) ** 2))\n",
    "\n",
    "    #find max heights/widths - i.e from top/bottom, left/right\n",
    "    if width == 0 or isTemplate==True:\n",
    "        maxWidth = max(int(widthA), int(widthB))\n",
    "    else:\n",
    "        maxWidth = width\n",
    "    if height == 0 or isTemplate==True:\n",
    "        maxHeight = max(int(heightA), int(heightB))\n",
    "    else:\n",
    "        maxHeight = height\n",
    "\n",
    "    #initialise dst array for transformation\n",
    "    dst = np.array([\n",
    "        [0, 0],\n",
    "        [maxWidth-1, 0],\n",
    "        [maxWidth -1, maxHeight-1 ],\n",
    "        [0, maxHeight-1]], dtype = \"float32\")\n",
    "\n",
    "    #transformation matrix\n",
    "    matrix = cv2.getPerspectiveTransform(orderedPts, dst)\n",
    "\n",
    "    #transform image and resize to original size (map spots to correct locations)\n",
    "    return cv2.warpPerspective(imgResize, matrix, (maxWidth, maxHeight))"
   ]
  },
  {
   "cell_type": "markdown",
   "metadata": {},
   "source": [
    "# e.g. align template"
   ]
  },
  {
   "cell_type": "code",
   "execution_count": 4,
   "metadata": {},
   "outputs": [
    {
     "name": "stdout",
     "output_type": "stream",
     "text": [
      "AlignImage: img resized by 50% in width and 50% in height\n"
     ]
    }
   ],
   "source": [
    "templateImgPath = \"images/scannedExceLPrint0.jpg\"\n",
    "tempImg =cv2.rotate(cv2.imread(templateImgPath),  cv2.ROTATE_90_CLOCKWISE)\n",
    "\n",
    "tempImgAligned = alignForm(tempImg, isTemplate = True)\n",
    "\n",
    "showImg(tempImgAligned)"
   ]
  },
  {
   "cell_type": "markdown",
   "metadata": {},
   "source": [
    "# e.g. align form"
   ]
  },
  {
   "cell_type": "code",
   "execution_count": 5,
   "metadata": {},
   "outputs": [],
   "source": [
    "oeeImgPath = \"images/scannedExceLPrintForm0.jpg\"\n",
    "oeeImg = cv2.rotate(cv2.imread(oeeImgPath),  cv2.ROTATE_90_CLOCKWISE)\n",
    "\n",
    "alignedOeeImg = alignForm(oeeImg, height= tempImgAligned.shape[0], width= tempImgAligned.shape[1])\n",
    "\n",
    "showImg(alignedOeeImg)"
   ]
  },
  {
   "cell_type": "markdown",
   "metadata": {},
   "source": [
    "## find x,y locs of spots in template"
   ]
  },
  {
   "cell_type": "code",
   "execution_count": 6,
   "metadata": {},
   "outputs": [
    {
     "name": "stdout",
     "output_type": "stream",
     "text": [
      "spots found: 707\n"
     ]
    }
   ],
   "source": [
    "imgThresh = threshImg(tempImgAligned)\n",
    "tempImgConts = tempImgAligned.copy()\n",
    "\n",
    "conts, hier = cv2.findContours(imgThresh, cv2.RETR_LIST, cv2.CHAIN_APPROX_SIMPLE)\n",
    "\n",
    "spotCentres=[]\n",
    "widths =[]\n",
    "uniqueX =[]\n",
    "uniqueY=[]\n",
    "i=0\n",
    "for c in conts: \n",
    "    i+=1\n",
    "    # compute enclosing rect to get center points\n",
    "    x,y,w,h = cv2.boundingRect(c)\n",
    "    ar = w/h\n",
    "    if 5<w<20 and 5<h<20 and 0.7<ar<1.3:      \n",
    "        #draw on blank to show correct detection        \n",
    "        cv2.rectangle(tempImgConts,(x,y), (x+w, y+h), (0,0,255))        \n",
    "        widths.append(w)\n",
    "        xCentre = int(x+(w/2))\n",
    "        yCentre = int(y+(h/2))\n",
    "        spotCentres.append([xCentre,yCentre])\n",
    "#         if xCentre not in uniqueX:\n",
    "#             uniqueX.append(xCentre)\n",
    "#             cv2.putText(tempImgConts, \"x=\" + str(xCentre), (xCentre+5, yCentre+20), cv2.FONT_HERSHEY_PLAIN, 0.4, (0,0,255))\n",
    "#         if yCentre not in uniqueY:\n",
    "#             uniqueY.append(yCentre)\n",
    "#             cv2.putText(tempImgConts, \"y=\" + str(yCentre), (xCentre+5, yCentre), cv2.FONT_HERSHEY_PLAIN, 0.4, (0,0,255))\n",
    "\n",
    "        #cv2.putText(tempImgConts, str(xCentre)+\",\"+str(yCentre), (xCentre+10, yCentre+10), cv2.FONT_HERSHEY_PLAIN, 0.5, (0,0,0))\n",
    "\n",
    "#sort by x, then y\n",
    "sortedSpots = sorted(spotCentres, key=lambda x:(x[0], x[1]), reverse=False)\n",
    "\n",
    "print(\"spots found:\", len(sortedSpots))\n",
    "\n",
    "\n",
    "showImg(tempImgConts)\n",
    "# cv2.imwrite(\"imgSpotCoordsY.jpg\", tempImgConts)\n",
    "# cv2.imwrite(\"imgSpotCoordsX.jpg\", tempImgConts)"
   ]
  },
  {
   "cell_type": "markdown",
   "metadata": {},
   "source": [
    "## visualise x and y axis"
   ]
  },
  {
   "cell_type": "code",
   "execution_count": 8,
   "metadata": {},
   "outputs": [],
   "source": [
    "imgCoord = alignForm(oeeImg, height= tempImgAligned.shape[0], width= tempImgAligned.shape[1], isTemplate=False)\n",
    "\n",
    "xCoords = [xy[0] for xy in sortedSpots]\n",
    "yCoords = [xy[1] for xy in sortedSpots]\n",
    "\n",
    "maxX = max(xCoords)\n",
    "maxY = max(yCoords)\n",
    "minX = min(xCoords)\n",
    "minY = min(yCoords)\n",
    "\n",
    "xTest = list(np.linspace(minX, maxX, 30, dtype='int'))\n",
    "yTest = list(np.linspace(minY, maxY, 20,dtype='int'))\n",
    "\n",
    "for pt in tuple(zip(xTest, [100]*100)):\n",
    "    x,y = pt\n",
    "    cv2.circle(imgCoord, pt, 3, (0,0,255))\n",
    "    cv2.putText(imgCoord, str(pt[0]), (x+5, y), cv2.FONT_HERSHEY_DUPLEX, 0.2, (0,0,255))\n",
    "    cv2.line(imgCoord, (pt[0],0), (pt[0], 1000), (0,0,0), lineType=4)\n",
    "    \n",
    "for pt in tuple(zip([100]*100, yTest)):   \n",
    "    x,y = pt\n",
    "    cv2.circle(imgCoord, pt, 2, (0,0,255))\n",
    "    cv2.putText(imgCoord, str(pt[1]), (x, y-5), cv2.FONT_HERSHEY_DUPLEX, 0.2, (0,0,255))\n",
    "    cv2.line(imgCoord, (0,pt[1]), (1000, pt[1]), (0,0,0))\n",
    "    \n",
    "\n",
    "showImg(imgCoord)"
   ]
  },
  {
   "cell_type": "markdown",
   "metadata": {},
   "source": [
    "## initialise list of dictionaries with: questions: list of responses dictionary\n",
    "    ## i.e. list of (questions:answers dictionaries)\n",
    "                answers = list of (answers:value, coord, filled) dictionaries"
   ]
  },
  {
   "cell_type": "code",
   "execution_count": 9,
   "metadata": {},
   "outputs": [],
   "source": [
    "## access answers of question (use this to check filled status from image?)\n",
    "#template_definition.py\n",
    "def getQuestionDetails(questionString, templateQuestionList):\n",
    "    '''return list of answer dictionaries for a question'''\n",
    "    index = [ind for ind, qn in enumerate(templateQuestionList) if qn['question']==questionString]\n",
    "    \n",
    "    if len(index)==1:\n",
    "        index = index[0]\n",
    "    else:\n",
    "        raise Exception(\"{} questions returned!\".format(len(index)))\n",
    "    return templateQuestionList[index]['answers']"
   ]
  },
  {
   "cell_type": "markdown",
   "metadata": {},
   "source": [
    "# fill in template"
   ]
  },
  {
   "cell_type": "markdown",
   "metadata": {},
   "source": [
    "### define generic function to generate questions for template"
   ]
  },
  {
   "cell_type": "code",
   "execution_count": 10,
   "metadata": {},
   "outputs": [],
   "source": [
    "#template_definition.py\n",
    "def generateQuestion(xRange, yRange, orient, questionName, answerValues, spotCoordsList):\n",
    "    '''returns question dictionary \n",
    "    xRange/yRange = list of x and y coordinates\n",
    "    orient = 'column' or 'row' or 'grid'\n",
    "    questionName = str of question to associate with answerValues\n",
    "    answerValues = list of values to associate with coordinates in xRange, \n",
    "    must be sorted from top to bottom (if orient = 'column'),\n",
    "    left to right (if orient = 'row')\n",
    "    left to right, then top to bottom - like reading english (if orient = 'grid')\n",
    "    spotCoordsList = list of all x,y coordinates from template to extract spots within xRange and yRange from.\n",
    "    '''\n",
    "    #return list of coordinates within range\n",
    "    coordList = [i for i in spotCoordsList if xRange[0]<=i[0]<=xRange[1] and yRange[0]<=i[1]<=yRange[1]]\n",
    "    \n",
    "    #sort list by x if orient == 'row' or by y if column\n",
    "    if orient =='row':\n",
    "        coordList = sorted(coordList, key = lambda x:x[0])\n",
    "    elif orient =='column':\n",
    "        coordList = sorted(coordList, key = lambda x:x[1])\n",
    "    elif orient=='grid':\n",
    "        coordList = sorted(coordList,key =  lambda x:(x[1], x[0]))\n",
    "    else:\n",
    "        raise Exception(\"orient must be 'column', 'row', or 'grid'\")\n",
    "    \n",
    "    \n",
    "    #map coordinates to values\n",
    "    if len(answerValues) == len(coordList):\n",
    "        valueCoords = zip(answerValues, coordList)\n",
    "    else:\n",
    "        raise Exception(\"answerValues length: ({}) must match coordList length: ({})\".format(len(answerValues), len(coordList)))\n",
    "    \n",
    "    #add question to template\n",
    "    questionDict = {'question': questionName, 'answers':[]}\n",
    "    \n",
    "    #add in answers\n",
    "    for val, coord in valueCoords:\n",
    "        questionDict['answers'].append({'value': val, 'coord':coord, 'filled': False})\n",
    "    \n",
    "    return questionDict"
   ]
  },
  {
   "cell_type": "markdown",
   "metadata": {},
   "source": [
    "## helper function to visualise questions/values"
   ]
  },
  {
   "cell_type": "code",
   "execution_count": 11,
   "metadata": {},
   "outputs": [],
   "source": [
    "#template_definition.py\n",
    "\n",
    "def showQuestion(questionString, templateQuestions, img, fontSize, time=0, show=True):\n",
    "    questionDetails = getQuestionDetails(questionString, templateQuestions)\n",
    "    questionLocX = questionDetails[0]['coord'][0]-10\n",
    "    questionLocY = questionDetails[0]['coord'][1]-10\n",
    "    #put text of question\n",
    "    cv2.putText(img, questionString, (questionLocX, questionLocY), cv2.FONT_HERSHEY_SIMPLEX, fontSize*1.5, (0,0,0))\n",
    "    for qn in questionDetails:\n",
    "        x,y = qn['coord']        \n",
    "        cv2.circle(img, (x,y), 5, (0,0,255), -1)        \n",
    "        cv2.putText(img, str(qn['value']), (x+10, y), cv2.FONT_HERSHEY_SIMPLEX, fontSize, (0,0,0))\n",
    "    if show:\n",
    "        showImg(img, time)"
   ]
  },
  {
   "cell_type": "markdown",
   "metadata": {},
   "source": [
    "### define questions\n",
    "### need to \"manually\" define questions, values - use imgCoord to visualise x and y range"
   ]
  },
  {
   "cell_type": "code",
   "execution_count": 12,
   "metadata": {},
   "outputs": [],
   "source": [
    "templateQuestions=[]\n",
    "\n",
    "showImg(imgCoord)\n",
    "\n",
    "templateQuestions.append(generateQuestion([35,40], [330,400] , 'column', 'day1', [0,1,2,3], sortedSpots))\n",
    "\n",
    "templateQuestions.append(generateQuestion([45,65], [330,520], 'column', 'day2', [0,1,2,3,4,5,6,7,8,9], sortedSpots))\n",
    "\n",
    "templateQuestions.append(generateQuestion([100, 120], [330, 550], 'column', 'month', list(range(1,13)), sortedSpots))\n",
    "\n",
    "templateQuestions.append(generateQuestion([150, 180], [320, 420], 'column', 'year', list(range(2020,2025)), sortedSpots))\n",
    "\n",
    "templateQuestions.append(generateQuestion([190, 220], [490, 530], 'column', 'shift', ['AM', 'PM'], sortedSpots))\n",
    "\n",
    "templateQuestions.append(generateQuestion([215,320], [490, 530], 'grid', 'cell', \n",
    "                 ['machined', 'isolast', 'custom', 'orings',\n",
    "                  'bonded', 'flexVRings', 'silastics','cleanroom'], \n",
    "                 sortedSpots))\n",
    "\n",
    "templateQuestions.append(generateQuestion([290,600], [330, 400], 'grid', 'press', \n",
    "                 ['press1', 'press5', 'press9', 'press13', \n",
    "                  'press2', 'press6', 'press10', 'press14', \n",
    "                  'press3', 'press7', 'press11', 'press15', \n",
    "                  'press4', 'press8', 'press12', 'press16'], \n",
    "                 sortedSpots))"
   ]
  },
  {
   "cell_type": "markdown",
   "metadata": {},
   "source": [
    "## loop through rows in 'lift counter' table"
   ]
  },
  {
   "cell_type": "markdown",
   "metadata": {},
   "source": [
    "### moID"
   ]
  },
  {
   "cell_type": "code",
   "execution_count": 13,
   "metadata": {},
   "outputs": [],
   "source": [
    "liftCounterYStart= 600\n",
    "liftCounterYEnd =  765\n",
    "liftCounterRows = np.linspace(liftCounterYStart, liftCounterYEnd, 10)\n",
    "\n",
    "i=0 \n",
    "for rw in liftCounterRows:\n",
    "    i+=1\n",
    "    templateQuestions.append(generateQuestion([60,200],[rw-7, rw+7], \n",
    "                                          'row', \n",
    "                                          'hr{}MOID'.format(str(i)),\n",
    "                                          list(range(1,7)),\n",
    "                                          sortedSpots))\n",
    "\n",
    "\n",
    "### lifts\n",
    "\n",
    "i=0 \n",
    "for rw in liftCounterRows:\n",
    "    i+=1\n",
    "    templateQuestions.append(generateQuestion([200,430],[rw-7, rw+7], \n",
    "                                          'row', \n",
    "                                          'hr{}lifts'.format(str(i)),\n",
    "                                          list(range(1,11)),\n",
    "                                          sortedSpots))\n",
    "\n",
    "\n",
    "### downtimecodes\n",
    "\n",
    "i=0 \n",
    "for rw in liftCounterRows:\n",
    "    i+=1\n",
    "    templateQuestions.append(generateQuestion([440,600],[rw-7, rw+7], \n",
    "                                          'row', \n",
    "                                          'hr{}downtime'.format(str(i)),\n",
    "                                          ['A', 'B', 'C', 'D', 'E', 'F', 'G'],\n",
    "                                          sortedSpots))\n",
    "\n",
    "\n",
    "## define moid table spots\n",
    "\n",
    "#[moid, xrange, yrange]\n",
    "col1 = [675, 822]\n",
    "col2 = [904, 1049]\n",
    "row1= [132, 291]\n",
    "row2 = [360, 518]\n",
    "row3 = [587, 744]\n",
    "moidTables= [[1,col1, row1],\n",
    "            [2, col2, row1],\n",
    "            [3, col1, row2],\n",
    "            [4, col2, row2],\n",
    "            [5, col1, row3],\n",
    "            [6, col2, row3]]\n",
    "\n",
    "for mo in moidTables:    \n",
    "    moNum = mo[0]\n",
    "    moidXRange = mo[1]\n",
    "    moidYRange = mo[2]\n",
    "    colNames = ['Pre', 'Suf1', 'Suf2', 'Suf3', 'Cav1', 'Cav2', 'Cav3']\n",
    "    col1 = moidXRange[0]\n",
    "    xCoords = np.linspace(mo[1][0], mo[1][1], 7)\n",
    "    yCoords= np.linspace(mo[2][0], mo[2][1], 10)   \n",
    "\n",
    "    i=0\n",
    "    for x in xCoords:        \n",
    "        if i == 0:\n",
    "            templateQuestions.append(generateQuestion([xCoords[i]-7,xCoords[i]+7], \n",
    "                                   moidYRange, 'column', 'moid{}{}'.format(moNum, colNames[i]), \n",
    "                     ['ORI', 'IAO', 'MCS', 'SIL', 'SEA', 'BON', 'BOM', 'CMO', 'SFALL', 'FAIR'], sortedSpots))\n",
    "        \n",
    "        else:\n",
    "            templateQuestions.append(generateQuestion([xCoords[i]-7,xCoords[i]+7], moidYRange, 'column', 'moid{}{}'.format(moNum,colNames[i]), \n",
    "                     list(range(0,10)), sortedSpots))\n",
    "        i+=1\n",
    "    "
   ]
  },
  {
   "cell_type": "markdown",
   "metadata": {},
   "source": [
    "## animate through questions to show off question/answers"
   ]
  },
  {
   "cell_type": "code",
   "execution_count": 14,
   "metadata": {},
   "outputs": [],
   "source": [
    "for qn in templateQuestions:\n",
    "    alignedOeeImg = alignForm(oeeImg, height= tempImgAligned.shape[0], width= tempImgAligned.shape[1], isTemplate=False)    \n",
    "    showQuestion(qn['question'], templateQuestions, alignedOeeImg, 0.3, time=1)\n",
    "\n",
    "cv2.destroyAllWindows()"
   ]
  },
  {
   "cell_type": "markdown",
   "metadata": {},
   "source": [
    "## export/import template as JSON\n",
    "\n",
    "### add metadata to template file"
   ]
  },
  {
   "cell_type": "markdown",
   "metadata": {},
   "source": [
    "templateFile ={}\n",
    "\n",
    "templateFile['metadata'] = {'shape': tempImgAligned.shape}\n",
    "\n",
    "templateFile['questions'] = templateQuestions\n",
    "\n",
    "with open(\"templates/OEEv3.4Template_meta.json\", 'x') as template:\n",
    "    json.dump(templateFile, template)"
   ]
  },
  {
   "cell_type": "code",
   "execution_count": 65,
   "metadata": {},
   "outputs": [],
   "source": [
    "with open(\"templates/OEEv3.4Template_meta.json\", 'r') as template:\n",
    "    jsonTempLoad = json.load(template)\n",
    "template = jsonTempLoad"
   ]
  },
  {
   "cell_type": "markdown",
   "metadata": {},
   "source": [
    "## overlay template mask onto forms and find filled in spots"
   ]
  },
  {
   "cell_type": "code",
   "execution_count": 68,
   "metadata": {},
   "outputs": [],
   "source": [
    "import os\n",
    "\n",
    "imgList = [os.path.join(\"scanTrials\", i) for i in os.listdir(r\"scanTrials\") if i.endswith(\".jpg\")]"
   ]
  },
  {
   "cell_type": "code",
   "execution_count": 79,
   "metadata": {},
   "outputs": [],
   "source": [
    "#form_read.py\n",
    "def omrRead(imgList, template, filledThresh = 0.4, circleSize=6, showOmr=False):\n",
    "    '''\n",
    "    returns pandas dataframe of img file as index and question/answers as columns\n",
    "    imgList: list of img file paths (readable by cv2.imread)\n",
    "    template: template file dictionary (read from json template with metadata)\n",
    "    fillThresh: what fraction of circle should be filled in to register as an answer\n",
    "    circleSize: size of circle to overlay on spot from template: larger size = more forgiving on alignment but requires larger fillThresh\n",
    "    showOmr: display each img after detection\n",
    "    '''\n",
    "    finalAnswers =[]\n",
    "    for formPath in imgList:\n",
    "        templateQuestions =copy.deepcopy(template['questions'])\n",
    "        scannedFormImg =cv2.imread(formPath)\n",
    "        \n",
    "        #rotate img if portrait instead of landscape\n",
    "\n",
    "        if scannedFormImg.shape[0]>scannedFormImg.shape[1]:\n",
    "            scannedFormImg=cv2.rotate(scannedFormImg, cv2.ROTATE_90_CLOCKWISE)\n",
    "        alignedScanImg = alignForm(scannedFormImg, height= template['metadata']['shape'][0], width= template['metadata']['shape'][1], isTemplate=False)    \n",
    "        alignedScanImgThresh = threshImg(alignedScanImg)\n",
    "\n",
    "        for qn in templateQuestions:\n",
    "\n",
    "            for ans in qn['answers']:\n",
    "\n",
    "                mask =np.zeros(alignedScanImgThresh.shape, dtype = \"uint8\")\n",
    "                cv2.circle(mask, tuple(ans['coord']), circleSize, 255, -1)        \n",
    "                maskPixels = cv2.countNonZero(mask)\n",
    "                mask = cv2.bitwise_and(alignedScanImgThresh, mask)\n",
    "                pctFilled = cv2.countNonZero(mask)/maskPixels\n",
    "\n",
    "                if pctFilled>=filledThreshold:\n",
    "                    ans['filled']=True\n",
    "                    cv2.circle(alignedScanImg, tuple(ans['coord']), circleSize, (0,0,255), 2)               \n",
    "                else:\n",
    "                    cv2.circle(alignedScanImg, tuple(ans['coord']), circleSize, (0,100,0), 2)\n",
    "                if pctFilled>0.1:\n",
    "                    cv2.putText(alignedScanImg, str(round(pctFilled, 2)), tuple(ans['coord']),cv2.FONT_HERSHEY_SIMPLEX, 0.5, (0,0,0), 2)\n",
    "\n",
    "        if showOmr:\n",
    "            showImg(alignedScanImg)\n",
    "\n",
    "    ## return question:answer pairs\n",
    "\n",
    "        filledSpots ={'form':formPath.split(\"\\\\\")[-1]}\n",
    "\n",
    "        for qn in templateQuestions:    \n",
    "            filledSpots[str(qn['question'])] = []\n",
    "            for ans in qn['answers']:\n",
    "                if ans['filled']==True:\n",
    "                    filledSpots[str(qn['question'])].append(ans['value'])\n",
    "\n",
    "        finalAnswers.append(filledSpots)\n",
    "    \n",
    "    return pd.DataFrame(finalAnswers)"
   ]
  },
  {
   "cell_type": "code",
   "execution_count": 86,
   "metadata": {},
   "outputs": [],
   "source": [
    "omrRead(imgList, template).to_csv(\"csvOutput.csv\")"
   ]
  },
  {
   "cell_type": "markdown",
   "metadata": {},
   "source": [
    "## dict to dataframe (let the fun begin)"
   ]
  },
  {
   "cell_type": "code",
   "execution_count": 53,
   "metadata": {},
   "outputs": [],
   "source": [
    "omrOutput = pd.DataFrame(finalAnswers)"
   ]
  },
  {
   "cell_type": "code",
   "execution_count": 113,
   "metadata": {},
   "outputs": [],
   "source": [
    "def getDate(rw):\n",
    "     return \"\".join([str(i) for i in rw['day1']]) + \"\".join([str(i) for i in rw['day2']])  + '-' +\"\".join([str(i) for i in rw['month']])+ '-'+ \"\".join([str(i) for i in rw['year']])"
   ]
  },
  {
   "cell_type": "code",
   "execution_count": 114,
   "metadata": {},
   "outputs": [],
   "source": [
    "omrOutput['day']= omrOutput.apply(lambda x: getDate(x), axis=1)"
   ]
  },
  {
   "cell_type": "code",
   "execution_count": 115,
   "metadata": {},
   "outputs": [
    {
     "data": {
      "text/plain": [
       "0     4-1-2024\n",
       "1    3-16-2024\n",
       "2           --\n",
       "3     1-5-2024\n",
       "4     3-3-2024\n",
       "Name: day, dtype: object"
      ]
     },
     "execution_count": 115,
     "metadata": {},
     "output_type": "execute_result"
    }
   ],
   "source": [
    "omrOutput['day']"
   ]
  },
  {
   "cell_type": "markdown",
   "metadata": {},
   "source": [
    "## or mimic csv output style from formscanner to allow reuse of analysis?"
   ]
  },
  {
   "cell_type": "markdown",
   "metadata": {},
   "source": [
    "## try align scanned image (fingers crossed!)"
   ]
  },
  {
   "cell_type": "code",
   "execution_count": 38,
   "metadata": {},
   "outputs": [],
   "source": [
    "scantrialimg1 = cv2.rotate(cv2.imread('scanTrials10.jpg'), cv2.ROTATE_90_CLOCKWISE)\n",
    "scantrialimg2 = cv2.rotate(cv2.imread('scanTrials11.jpg'), cv2.ROTATE_90_CLOCKWISE)\n",
    "\n",
    "showImg(alignForm(scantrialimg2,height= tempImgAligned.shape[0], width= tempImgAligned.shape[1], template=False))"
   ]
  },
  {
   "cell_type": "code",
   "execution_count": 39,
   "metadata": {},
   "outputs": [],
   "source": [
    "for qn in templateQuestions:\n",
    "    img = alignForm(scantrialimg1,height= tempImgAligned.shape[0], width= tempImgAligned.shape[1], template=False)\n",
    "    showQuestion(qn['question'], templateQuestions, img, 0.3, time=100)\n",
    "\n",
    "cv2.destroyAllWindows()"
   ]
  },
  {
   "cell_type": "markdown",
   "metadata": {},
   "source": [
    "## consolidate x and y vals"
   ]
  },
  {
   "cell_type": "code",
   "execution_count": null,
   "metadata": {},
   "outputs": [],
   "source": [
    "consMargin =10\n",
    "\n",
    "xCoords = [xy[0] for xy in sortedSpots]\n",
    "yCoords = [xy[1] for xy in sortedSpots]\n",
    "\n",
    "uniqueX = []\n",
    "for x in xCoords:\n",
    "    if x not in uniqueX:\n",
    "        uniqueX.append(x)\n",
    "        \n",
    "uniqueY = []\n",
    "for y in yCoords:\n",
    "    if y not in uniqueY:\n",
    "        uniqueY.append(y)\n",
    "\n",
    "xIndices = np.where(np.diff(np.array(sorted(uniqueX)))<consMargin)\n",
    "yIndices = np.where(np.diff(np.array(sorted(uniqueY)))<consMargin)\n",
    "\n",
    "repeatedX = np.array(sorted(uniqueX))[list(xIndices[0])]\n",
    "\n",
    "repeatedY = np.array(sorted(uniqueY))[list(yIndices[0])]\n",
    "\n",
    "#define replacement lists, i.e. first index is value to replace, second index is replacement values \n",
    "##(order doesnt matter as long as its consistent)\n",
    "\n",
    "replacementY=[]\n",
    "for y in repeatedY:    \n",
    "    replacementY.append([i for i in uniqueY if y-consMargin<i<y+consMargin])\n",
    "\n",
    "replacementX=[]\n",
    "\n",
    "for x in repeatedX:    \n",
    "    replacementX.append([i for i in uniqueX if x-5<i<x+5])\n",
    "\n",
    "replacementSpots = copy.deepcopy(sortedSpots)\n",
    "\n",
    "for i in replacementSpots:\n",
    "    #print(\"i\", i)\n",
    "    for vals in replacementX:        \n",
    "        if i[0]==vals[0]:\n",
    "            #print(\"match:\", i[0], \"to\", vals[0], \"changing to\", vals[1])\n",
    "            i[0]=vals[1]\n",
    "\n",
    "for i in replacementSpots:\n",
    "    #print(\"i\", i)\n",
    "    for vals in replacementY:        \n",
    "        if i[1]==vals[0]:\n",
    "            #print(\"match:\", i[1], \"to\", vals[0], \"changing to\", vals[1])\n",
    "            i[1]=vals[1]\n",
    "\n",
    "#check if coordinates have been consolidated\n",
    "xCoords = [xy[0] for xy in replacementSpots]\n",
    "yCoords = [xy[1] for xy in replacementSpots]\n",
    "\n",
    "replacementUniqueX = []\n",
    "for x in xCoords:\n",
    "    if x not in replacementUniqueX:\n",
    "        replacementUniqueX.append(x)\n",
    "        \n",
    "replacementUniqueY = []\n",
    "for y in yCoords:\n",
    "    if y not in replacementUniqueY:\n",
    "        replacementUniqueY.append(y)\n",
    "\n",
    "#which x values have been removed?\n",
    "print(\"x vals consolidated:\", set(uniqueX)- set(replacementUniqueX))\n",
    "\n",
    "#which y values have been removed?\n",
    "print(\"y vals consolidated:\",set(uniqueY)- set(replacementUniqueY))"
   ]
  },
  {
   "cell_type": "markdown",
   "metadata": {},
   "source": [
    "## repeat consolidation (incase multiple spots within margin)"
   ]
  },
  {
   "cell_type": "code",
   "execution_count": null,
   "metadata": {},
   "outputs": [],
   "source": [
    "consMargin =10\n",
    "\n",
    "xCoords = [xy[0] for xy in replacementSpots]\n",
    "yCoords = [xy[1] for xy in replacementSpots]\n",
    "\n",
    "uniqueX = []\n",
    "for x in xCoords:\n",
    "    if x not in uniqueX:\n",
    "        uniqueX.append(x)\n",
    "        \n",
    "uniqueY = []\n",
    "for y in yCoords:\n",
    "    if y not in uniqueY:\n",
    "        uniqueY.append(y)\n",
    "\n",
    "xIndices = np.where(np.diff(np.array(sorted(uniqueX)))<consMargin)\n",
    "yIndices = np.where(np.diff(np.array(sorted(uniqueY)))<consMargin)\n",
    "\n",
    "repeatedX = np.array(sorted(uniqueX))[list(xIndices[0])]\n",
    "\n",
    "repeatedY = np.array(sorted(uniqueY))[list(yIndices[0])]\n",
    "\n",
    "#define replacement lists, i.e. first index is value to replace, second index is replacement values \n",
    "##(order doesnt matter as long as its consistent)\n",
    "\n",
    "replacementY=[]\n",
    "for y in repeatedY:    \n",
    "    replacementY.append([i for i in uniqueY if y-consMargin<i<y+consMargin])\n",
    "\n",
    "replacementX=[]\n",
    "\n",
    "for x in repeatedX:    \n",
    "    replacementX.append([i for i in uniqueX if x-5<i<x+5])\n",
    "\n",
    "replacementSpots = copy.deepcopy(replacementSpots)\n",
    "\n",
    "for i in replacementSpots:\n",
    "    #print(\"i\", i)\n",
    "    for vals in replacementX:        \n",
    "        if i[0]==vals[0]:\n",
    "            #print(\"match:\", i[0], \"to\", vals[0], \"changing to\", vals[1])\n",
    "            i[0]=vals[1]\n",
    "\n",
    "for i in replacementSpots:\n",
    "    #print(\"i\", i)\n",
    "    for vals in replacementY:        \n",
    "        if i[1]==vals[0]:\n",
    "            #print(\"match:\", i[1], \"to\", vals[0], \"changing to\", vals[1])\n",
    "            i[1]=vals[1]\n",
    "\n",
    "#check if coordinates have been consolidated\n",
    "xCoords = [xy[0] for xy in replacementSpots]\n",
    "yCoords = [xy[1] for xy in replacementSpots]\n",
    "\n",
    "replacementUniqueX = []\n",
    "for x in xCoords:\n",
    "    if x not in replacementUniqueX:\n",
    "        replacementUniqueX.append(x)\n",
    "        \n",
    "replacementUniqueY = []\n",
    "for y in yCoords:\n",
    "    if y not in replacementUniqueY:\n",
    "        replacementUniqueY.append(y)\n",
    "\n",
    "#which x values have been removed?\n",
    "print(\"x vals consolidated:\", set(uniqueX)- set(replacementUniqueX))\n",
    "\n",
    "#which y values have been removed?\n",
    "print(\"y vals consolidated:\",set(uniqueY)- set(replacementUniqueY))"
   ]
  },
  {
   "cell_type": "code",
   "execution_count": 324,
   "metadata": {},
   "outputs": [],
   "source": [
    "oeeImg = cv2.warpPerspective(imgResize, matrix, (maxWidth, maxHeight))\n",
    "\n",
    "xTestYLine = [30] * 100\n",
    "yTestXLine = [10] * 100\n",
    "\n",
    "xTest = list(zip(list(np.array(sorted(replacementUniqueX), dtype='int64')), xTestYLine))\n",
    "\n",
    "yTest = list(zip(yTestXLine, list(np.array(sorted(replacementUniqueY), dtype='int64'))))\n",
    "\n",
    "\n",
    "for pt in xTest:    \n",
    "    cv2.circle(oeeImg, pt, 2, (0,0,255))\n",
    "    cv2.putText(oeeImg, str(pt[0]), pt, cv2.FONT_HERSHEY_PLAIN, 0.7, (0,0,0))\n",
    "    cv2.line(oeeImg, (pt[0],0), (pt[0], 1000), (100,100,100), lineType=4)\n",
    "    \n",
    "for pt in yTest:    \n",
    "    cv2.circle(oeeImg, pt, 2, (0,0,255))\n",
    "    cv2.putText(oeeImg, str(pt[1]), pt, cv2.FONT_HERSHEY_PLAIN, 0.7, (0,0,0))\n",
    "    cv2.line(oeeImg, (0,pt[1]), (1000, pt[1]), (100,100,100))\n",
    "    \n",
    "#cv2.imwrite(\"imgCoord.jpg\", oeeImg)\n",
    "showImg(oeeImg)"
   ]
  },
  {
   "cell_type": "code",
   "execution_count": null,
   "metadata": {},
   "outputs": [],
   "source": []
  }
 ],
 "metadata": {
  "kernelspec": {
   "display_name": "Python 3",
   "language": "python",
   "name": "python3"
  },
  "language_info": {
   "codemirror_mode": {
    "name": "ipython",
    "version": 3
   },
   "file_extension": ".py",
   "mimetype": "text/x-python",
   "name": "python",
   "nbconvert_exporter": "python",
   "pygments_lexer": "ipython3",
   "version": "3.8.5"
  }
 },
 "nbformat": 4,
 "nbformat_minor": 4
}
